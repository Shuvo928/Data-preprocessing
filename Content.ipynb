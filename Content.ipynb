{
 "cells": [
  {
   "cell_type": "markdown",
   "id": "63aecdd1",
   "metadata": {},
   "source": [
    "## Table of contents\n",
    "\n",
    "* [Feature Engineering](#feat_engg)\n",
    "    * [Missing Values Treatment](#missing)\n",
    "    * [Outliers Treatment](#outliers)\n",
    "    * [Categorical Data Handling](#cat)\n",
    "    * [Imbalanced Class Handling](#imbal)\n",
    "    * [Data Transformation](#trans)\n",
    "    * [Extracting Date](#date)"
   ]
  },
  {
   "cell_type": "code",
   "execution_count": 1,
   "id": "03009712",
   "metadata": {},
   "outputs": [
    {
     "ename": "ModuleNotFoundError",
     "evalue": "No module named 'pandas'",
     "output_type": "error",
     "traceback": [
      "\u001b[31m---------------------------------------------------------------------------\u001b[39m",
      "\u001b[31mModuleNotFoundError\u001b[39m                       Traceback (most recent call last)",
      "\u001b[36mCell\u001b[39m\u001b[36m \u001b[39m\u001b[32mIn[1]\u001b[39m\u001b[32m, line 1\u001b[39m\n\u001b[32m----> \u001b[39m\u001b[32m1\u001b[39m \u001b[38;5;28;01mimport\u001b[39;00m\u001b[38;5;250m \u001b[39m\u001b[34;01mpandas\u001b[39;00m\u001b[38;5;250m \u001b[39m\u001b[38;5;28;01mas\u001b[39;00m\u001b[38;5;250m \u001b[39m\u001b[34;01mpd\u001b[39;00m\n\u001b[32m      2\u001b[39m \u001b[38;5;28;01mimport\u001b[39;00m\u001b[38;5;250m \u001b[39m\u001b[34;01mnumpy\u001b[39;00m\u001b[38;5;250m \u001b[39m\u001b[38;5;28;01mas\u001b[39;00m\u001b[38;5;250m \u001b[39m\u001b[34;01mnp\u001b[39;00m\n\u001b[32m      3\u001b[39m \u001b[38;5;28;01mimport\u001b[39;00m\u001b[38;5;250m \u001b[39m\u001b[34;01mwarnings\u001b[39;00m\n",
      "\u001b[31mModuleNotFoundError\u001b[39m: No module named 'pandas'"
     ]
    }
   ],
   "source": [
    "import pandas as pd\n",
    "import numpy as np\n",
    "import warnings\n",
    "warnings.filterwarnings('ignore')\n",
    "\n",
    "dt = {\"col1\":[51,22,13,64,50,np.nan,17,580,19,1000],\n",
    "      \"col2\":[np.nan,np.nan,89,np.nan,76,np.nan,53,np.nan,900,np.nan],\n",
    "      \"col3\":['male','male','male','male','male','male','male',np.nan,'female',np.nan],\n",
    "      \"col4\":['good','bad','good',np.nan,'good','bad','bad',np.nan,'good',np.nan]}\n",
    "\n",
    "data = pd.DataFrame(dt)\n",
    "\n",
    "data"
   ]
  }
 ],
 "metadata": {
  "kernelspec": {
   "display_name": ".venv",
   "language": "python",
   "name": "python3"
  },
  "language_info": {
   "codemirror_mode": {
    "name": "ipython",
    "version": 3
   },
   "file_extension": ".py",
   "mimetype": "text/x-python",
   "name": "python",
   "nbconvert_exporter": "python",
   "pygments_lexer": "ipython3",
   "version": "3.12.10"
  }
 },
 "nbformat": 4,
 "nbformat_minor": 5
}
