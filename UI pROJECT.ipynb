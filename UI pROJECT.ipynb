{
 "cells": [
  {
   "cell_type": "code",
   "execution_count": 1,
   "id": "f7a8e782",
   "metadata": {},
   "outputs": [],
   "source": [
    "import matplotlib.pyplot as plt\n",
    "%matplotlib inline\n",
    "import seaborn as sns\n",
    "sns.set() # Apply the default seaborn theme, scaling, and color palette\n",
    "\n",
    "import pandas as pd\n",
    "import numpy as np\n",
    "\n",
    "import warnings\n",
    "warnings.filterwarnings(\"ignore\")"
   ]
  },
  {
   "cell_type": "code",
   "execution_count": 2,
   "id": "0318ee27",
   "metadata": {},
   "outputs": [
    {
     "name": "stderr",
     "output_type": "stream",
     "text": [
      "<>:4: SyntaxWarning: invalid escape sequence '\\G'\n",
      "<>:4: SyntaxWarning: invalid escape sequence '\\G'\n",
      "C:\\Users\\USER\\AppData\\Local\\Temp\\ipykernel_8288\\1480635045.py:4: SyntaxWarning: invalid escape sequence '\\G'\n",
      "  df = pd.read_csv(\"D:\\GitHub\\M6.csv\")\n",
      "C:\\Users\\USER\\AppData\\Local\\Temp\\ipykernel_8288\\1480635045.py:4: DtypeWarning: Columns (2,4,18,19,27) have mixed types. Specify dtype option on import or set low_memory=False.\n",
      "  df = pd.read_csv(\"D:\\GitHub\\M6.csv\")\n"
     ]
    },
    {
     "data": {
      "text/html": [
       "<div>\n",
       "<style scoped>\n",
       "    .dataframe tbody tr th:only-of-type {\n",
       "        vertical-align: middle;\n",
       "    }\n",
       "\n",
       "    .dataframe tbody tr th {\n",
       "        vertical-align: top;\n",
       "    }\n",
       "\n",
       "    .dataframe thead th {\n",
       "        text-align: right;\n",
       "    }\n",
       "</style>\n",
       "<table border=\"1\" class=\"dataframe\">\n",
       "  <thead>\n",
       "    <tr style=\"text-align: right;\">\n",
       "      <th></th>\n",
       "      <th>LOC</th>\n",
       "      <th>CUST_NAM</th>\n",
       "      <th>F_H_NAME</th>\n",
       "      <th>CUST_NUM</th>\n",
       "      <th>A_C</th>\n",
       "      <th>ADDRESS</th>\n",
       "      <th>BOOK</th>\n",
       "      <th>BG</th>\n",
       "      <th>WALK_SEQ</th>\n",
       "      <th>METER_NO</th>\n",
       "      <th>...</th>\n",
       "      <th>CUR_M_BILL</th>\n",
       "      <th>PAY_DATE</th>\n",
       "      <th>PRIN_PAID</th>\n",
       "      <th>VAT_PAID</th>\n",
       "      <th>TOTAL_ADJ</th>\n",
       "      <th>PRN_BALANCE</th>\n",
       "      <th>VAT_BALANCE</th>\n",
       "      <th>LPS_BALANCE</th>\n",
       "      <th>TOTAL_BALANCE</th>\n",
       "      <th>TOTAL_BILL</th>\n",
       "    </tr>\n",
       "  </thead>\n",
       "  <tbody>\n",
       "    <tr>\n",
       "      <th>0</th>\n",
       "      <td>M6</td>\n",
       "      <td>MD.ALI  AKBAR  MOLLA</td>\n",
       "      <td>NaN</td>\n",
       "      <td>75900134</td>\n",
       "      <td>A/1632/77</td>\n",
       "      <td>NORTH  KOIRAKURI,,</td>\n",
       "      <td>H02</td>\n",
       "      <td>2</td>\n",
       "      <td>1,320.00</td>\n",
       "      <td>611008</td>\n",
       "      <td>...</td>\n",
       "      <td>1,574.94</td>\n",
       "      <td>05/11/2025 00:00:00</td>\n",
       "      <td>1,270.00</td>\n",
       "      <td>64.00</td>\n",
       "      <td>0.06</td>\n",
       "      <td>1,499.94</td>\n",
       "      <td>75.00</td>\n",
       "      <td>0.00</td>\n",
       "      <td>1,574.94</td>\n",
       "      <td>1,575.00</td>\n",
       "    </tr>\n",
       "    <tr>\n",
       "      <th>1</th>\n",
       "      <td>M6</td>\n",
       "      <td>MD.ABDUL  HAMID</td>\n",
       "      <td>NaN</td>\n",
       "      <td>75900149</td>\n",
       "      <td>A/1116/79</td>\n",
       "      <td>NORTH  KOIRAKURI,,</td>\n",
       "      <td>H02</td>\n",
       "      <td>2</td>\n",
       "      <td>1,350.00</td>\n",
       "      <td>377600</td>\n",
       "      <td>...</td>\n",
       "      <td>895.90</td>\n",
       "      <td>05/11/2025 00:00:00</td>\n",
       "      <td>500.00</td>\n",
       "      <td>25.00</td>\n",
       "      <td>0.10</td>\n",
       "      <td>852.90</td>\n",
       "      <td>43.00</td>\n",
       "      <td>0.00</td>\n",
       "      <td>895.90</td>\n",
       "      <td>896.00</td>\n",
       "    </tr>\n",
       "    <tr>\n",
       "      <th>2</th>\n",
       "      <td>M6</td>\n",
       "      <td>ABDUL  BARI</td>\n",
       "      <td>NaN</td>\n",
       "      <td>75900153</td>\n",
       "      <td>A/1178/80</td>\n",
       "      <td>NORTH  KOIRAKURI,,</td>\n",
       "      <td>H02</td>\n",
       "      <td>2</td>\n",
       "      <td>1,360.00</td>\n",
       "      <td>557275</td>\n",
       "      <td>...</td>\n",
       "      <td>1,379.70</td>\n",
       "      <td>05/12/2025 00:00:00</td>\n",
       "      <td>1,289.00</td>\n",
       "      <td>65.00</td>\n",
       "      <td>0.30</td>\n",
       "      <td>1,313.70</td>\n",
       "      <td>66.00</td>\n",
       "      <td>0.00</td>\n",
       "      <td>1,379.70</td>\n",
       "      <td>1,380.00</td>\n",
       "    </tr>\n",
       "    <tr>\n",
       "      <th>3</th>\n",
       "      <td>M6</td>\n",
       "      <td>MD.ISMAIL  HOSSAIN</td>\n",
       "      <td>NaN</td>\n",
       "      <td>75900168</td>\n",
       "      <td>A/1049/81</td>\n",
       "      <td>NORTH  KOIRAKURI,,</td>\n",
       "      <td>H02</td>\n",
       "      <td>2</td>\n",
       "      <td>1,370.00</td>\n",
       "      <td>188176</td>\n",
       "      <td>...</td>\n",
       "      <td>408.08</td>\n",
       "      <td>05/12/2025 00:00:00</td>\n",
       "      <td>957.00</td>\n",
       "      <td>47.00</td>\n",
       "      <td>-0.08</td>\n",
       "      <td>389.08</td>\n",
       "      <td>19.00</td>\n",
       "      <td>0.00</td>\n",
       "      <td>408.08</td>\n",
       "      <td>408.00</td>\n",
       "    </tr>\n",
       "    <tr>\n",
       "      <th>4</th>\n",
       "      <td>M6</td>\n",
       "      <td>MD.MAFIZ  UDDIN</td>\n",
       "      <td>NaN</td>\n",
       "      <td>75900172</td>\n",
       "      <td>A/1368/82</td>\n",
       "      <td>NORTH  KOIRAKURI,,</td>\n",
       "      <td>H02</td>\n",
       "      <td>2</td>\n",
       "      <td>1,380.00</td>\n",
       "      <td>203266</td>\n",
       "      <td>...</td>\n",
       "      <td>1,463.68</td>\n",
       "      <td>05/12/2025 00:00:00</td>\n",
       "      <td>4,750.00</td>\n",
       "      <td>250.00</td>\n",
       "      <td>0.32</td>\n",
       "      <td>4,844.12</td>\n",
       "      <td>231.00</td>\n",
       "      <td>336.56</td>\n",
       "      <td>5,411.68</td>\n",
       "      <td>5,412.00</td>\n",
       "    </tr>\n",
       "  </tbody>\n",
       "</table>\n",
       "<p>5 rows × 34 columns</p>\n",
       "</div>"
      ],
      "text/plain": [
       "  LOC              CUST_NAM F_H_NAME  CUST_NUM        A_C             ADDRESS  \\\n",
       "0  M6  MD.ALI  AKBAR  MOLLA      NaN  75900134  A/1632/77  NORTH  KOIRAKURI,,   \n",
       "1  M6       MD.ABDUL  HAMID      NaN  75900149  A/1116/79  NORTH  KOIRAKURI,,   \n",
       "2  M6           ABDUL  BARI      NaN  75900153  A/1178/80  NORTH  KOIRAKURI,,   \n",
       "3  M6    MD.ISMAIL  HOSSAIN      NaN  75900168  A/1049/81  NORTH  KOIRAKURI,,   \n",
       "4  M6       MD.MAFIZ  UDDIN      NaN  75900172  A/1368/82  NORTH  KOIRAKURI,,   \n",
       "\n",
       "  BOOK  BG  WALK_SEQ METER_NO  ...  CUR_M_BILL             PAY_DATE  \\\n",
       "0  H02   2  1,320.00   611008  ...    1,574.94  05/11/2025 00:00:00   \n",
       "1  H02   2  1,350.00   377600  ...      895.90  05/11/2025 00:00:00   \n",
       "2  H02   2  1,360.00   557275  ...    1,379.70  05/12/2025 00:00:00   \n",
       "3  H02   2  1,370.00   188176  ...      408.08  05/12/2025 00:00:00   \n",
       "4  H02   2  1,380.00   203266  ...    1,463.68  05/12/2025 00:00:00   \n",
       "\n",
       "   PRIN_PAID  VAT_PAID TOTAL_ADJ PRN_BALANCE  VAT_BALANCE LPS_BALANCE  \\\n",
       "0   1,270.00     64.00      0.06    1,499.94        75.00        0.00   \n",
       "1     500.00     25.00      0.10      852.90        43.00        0.00   \n",
       "2   1,289.00     65.00      0.30    1,313.70        66.00        0.00   \n",
       "3     957.00     47.00     -0.08      389.08        19.00        0.00   \n",
       "4   4,750.00    250.00      0.32    4,844.12       231.00      336.56   \n",
       "\n",
       "  TOTAL_BALANCE TOTAL_BILL  \n",
       "0      1,574.94   1,575.00  \n",
       "1        895.90     896.00  \n",
       "2      1,379.70   1,380.00  \n",
       "3        408.08     408.00  \n",
       "4      5,411.68   5,412.00  \n",
       "\n",
       "[5 rows x 34 columns]"
      ]
     },
     "execution_count": 2,
     "metadata": {},
     "output_type": "execute_result"
    }
   ],
   "source": [
    "import pandas as pd\n",
    "\n",
    "# Load the CSV file into a DataFrame\n",
    "df = pd.read_csv(\"D:\\GitHub\\M6.csv\")\n",
    "\n",
    "# Display the first few rows\n",
    "df.head()"
   ]
  },
  {
   "cell_type": "code",
   "execution_count": 4,
   "id": "0c587693",
   "metadata": {},
   "outputs": [
    {
     "data": {
      "text/html": [
       "<div>\n",
       "<style scoped>\n",
       "    .dataframe tbody tr th:only-of-type {\n",
       "        vertical-align: middle;\n",
       "    }\n",
       "\n",
       "    .dataframe tbody tr th {\n",
       "        vertical-align: top;\n",
       "    }\n",
       "\n",
       "    .dataframe thead th {\n",
       "        text-align: right;\n",
       "    }\n",
       "</style>\n",
       "<table border=\"1\" class=\"dataframe\">\n",
       "  <thead>\n",
       "    <tr style=\"text-align: right;\">\n",
       "      <th></th>\n",
       "      <th>CUST_NUM</th>\n",
       "      <th>BG</th>\n",
       "      <th>ME_PHASE</th>\n",
       "      <th>S_LOAD</th>\n",
       "      <th>C_LOAD</th>\n",
       "      <th>METER_COND</th>\n",
       "      <th>BILL_MONTH</th>\n",
       "    </tr>\n",
       "  </thead>\n",
       "  <tbody>\n",
       "    <tr>\n",
       "      <th>count</th>\n",
       "      <td>1.671400e+04</td>\n",
       "      <td>16714.000000</td>\n",
       "      <td>14726.000000</td>\n",
       "      <td>16714.000000</td>\n",
       "      <td>16714.000000</td>\n",
       "      <td>14726.000000</td>\n",
       "      <td>16714.0</td>\n",
       "    </tr>\n",
       "    <tr>\n",
       "      <th>mean</th>\n",
       "      <td>8.076452e+07</td>\n",
       "      <td>7.820330</td>\n",
       "      <td>1.028657</td>\n",
       "      <td>2.436341</td>\n",
       "      <td>2.436101</td>\n",
       "      <td>0.363439</td>\n",
       "      <td>202505.0</td>\n",
       "    </tr>\n",
       "    <tr>\n",
       "      <th>std</th>\n",
       "      <td>6.550674e+06</td>\n",
       "      <td>3.483698</td>\n",
       "      <td>0.237689</td>\n",
       "      <td>9.294850</td>\n",
       "      <td>9.294854</td>\n",
       "      <td>2.142415</td>\n",
       "      <td>0.0</td>\n",
       "    </tr>\n",
       "    <tr>\n",
       "      <th>min</th>\n",
       "      <td>7.590013e+07</td>\n",
       "      <td>2.000000</td>\n",
       "      <td>1.000000</td>\n",
       "      <td>1.000000</td>\n",
       "      <td>1.000000</td>\n",
       "      <td>0.000000</td>\n",
       "      <td>202505.0</td>\n",
       "    </tr>\n",
       "    <tr>\n",
       "      <th>25%</th>\n",
       "      <td>7.595106e+07</td>\n",
       "      <td>4.000000</td>\n",
       "      <td>1.000000</td>\n",
       "      <td>2.000000</td>\n",
       "      <td>2.000000</td>\n",
       "      <td>0.000000</td>\n",
       "      <td>202505.0</td>\n",
       "    </tr>\n",
       "    <tr>\n",
       "      <th>50%</th>\n",
       "      <td>7.675105e+07</td>\n",
       "      <td>8.000000</td>\n",
       "      <td>1.000000</td>\n",
       "      <td>2.000000</td>\n",
       "      <td>2.000000</td>\n",
       "      <td>0.000000</td>\n",
       "      <td>202505.0</td>\n",
       "    </tr>\n",
       "    <tr>\n",
       "      <th>75%</th>\n",
       "      <td>9.036187e+07</td>\n",
       "      <td>10.000000</td>\n",
       "      <td>1.000000</td>\n",
       "      <td>2.000000</td>\n",
       "      <td>2.000000</td>\n",
       "      <td>0.000000</td>\n",
       "      <td>202505.0</td>\n",
       "    </tr>\n",
       "    <tr>\n",
       "      <th>max</th>\n",
       "      <td>9.126218e+07</td>\n",
       "      <td>22.000000</td>\n",
       "      <td>3.000000</td>\n",
       "      <td>800.000000</td>\n",
       "      <td>800.000000</td>\n",
       "      <td>13.000000</td>\n",
       "      <td>202505.0</td>\n",
       "    </tr>\n",
       "  </tbody>\n",
       "</table>\n",
       "</div>"
      ],
      "text/plain": [
       "           CUST_NUM            BG      ME_PHASE        S_LOAD        C_LOAD  \\\n",
       "count  1.671400e+04  16714.000000  14726.000000  16714.000000  16714.000000   \n",
       "mean   8.076452e+07      7.820330      1.028657      2.436341      2.436101   \n",
       "std    6.550674e+06      3.483698      0.237689      9.294850      9.294854   \n",
       "min    7.590013e+07      2.000000      1.000000      1.000000      1.000000   \n",
       "25%    7.595106e+07      4.000000      1.000000      2.000000      2.000000   \n",
       "50%    7.675105e+07      8.000000      1.000000      2.000000      2.000000   \n",
       "75%    9.036187e+07     10.000000      1.000000      2.000000      2.000000   \n",
       "max    9.126218e+07     22.000000      3.000000    800.000000    800.000000   \n",
       "\n",
       "         METER_COND  BILL_MONTH  \n",
       "count  14726.000000     16714.0  \n",
       "mean       0.363439    202505.0  \n",
       "std        2.142415         0.0  \n",
       "min        0.000000    202505.0  \n",
       "25%        0.000000    202505.0  \n",
       "50%        0.000000    202505.0  \n",
       "75%        0.000000    202505.0  \n",
       "max       13.000000    202505.0  "
      ]
     },
     "execution_count": 4,
     "metadata": {},
     "output_type": "execute_result"
    }
   ],
   "source": [
    "df.describe()"
   ]
  },
  {
   "cell_type": "code",
   "execution_count": 5,
   "id": "02b34d9f",
   "metadata": {},
   "outputs": [
    {
     "name": "stdout",
     "output_type": "stream",
     "text": [
      "<class 'pandas.core.frame.DataFrame'>\n",
      "RangeIndex: 16714 entries, 0 to 16713\n",
      "Data columns (total 34 columns):\n",
      " #   Column         Non-Null Count  Dtype  \n",
      "---  ------         --------------  -----  \n",
      " 0   LOC            16714 non-null  object \n",
      " 1   CUST_NAM       16714 non-null  object \n",
      " 2   F_H_NAME       334 non-null    object \n",
      " 3   CUST_NUM       16714 non-null  int64  \n",
      " 4   A_C            16713 non-null  object \n",
      " 5   ADDRESS        16714 non-null  object \n",
      " 6   BOOK           16714 non-null  object \n",
      " 7   BG             16714 non-null  int64  \n",
      " 8   WALK_SEQ       16714 non-null  object \n",
      " 9   METER_NO       16714 non-null  object \n",
      " 10  ME_PHASE       14726 non-null  float64\n",
      " 11  S_LOAD         16714 non-null  float64\n",
      " 12  C_LOAD         16714 non-null  float64\n",
      " 13  METER_COND     14726 non-null  float64\n",
      " 14  OMF            16714 non-null  object \n",
      " 15  CATAGORY       16714 non-null  object \n",
      " 16  BILL_MONTH     16714 non-null  int64  \n",
      " 17  C_SR_RED       13690 non-null  object \n",
      " 18  C_OFPK_RED     23 non-null     object \n",
      " 19  C_PK_RED       65 non-null     object \n",
      " 20  TO_UNIT        16714 non-null  object \n",
      " 21  CUR_M_PRIN     16714 non-null  object \n",
      " 22  CUR_LPS        16714 non-null  object \n",
      " 23  CUR_VAT        16714 non-null  object \n",
      " 24  CUR_M_BILL     16714 non-null  object \n",
      " 25  PAY_DATE       8229 non-null   object \n",
      " 26  PRIN_PAID      16714 non-null  object \n",
      " 27  VAT_PAID       16714 non-null  object \n",
      " 28  TOTAL_ADJ      16714 non-null  object \n",
      " 29  PRN_BALANCE    16714 non-null  object \n",
      " 30  VAT_BALANCE    16714 non-null  object \n",
      " 31  LPS_BALANCE    16714 non-null  object \n",
      " 32  TOTAL_BALANCE  16714 non-null  object \n",
      " 33  TOTAL_BILL     16714 non-null  object \n",
      "dtypes: float64(4), int64(3), object(27)\n",
      "memory usage: 4.3+ MB\n"
     ]
    }
   ],
   "source": [
    "df.info()"
   ]
  },
  {
   "cell_type": "code",
   "execution_count": 6,
   "id": "af644c39",
   "metadata": {},
   "outputs": [
    {
     "data": {
      "text/plain": [
       "LOC                  0\n",
       "CUST_NAM             0\n",
       "F_H_NAME         16380\n",
       "CUST_NUM             0\n",
       "A_C                  1\n",
       "ADDRESS              0\n",
       "BOOK                 0\n",
       "BG                   0\n",
       "WALK_SEQ             0\n",
       "METER_NO             0\n",
       "ME_PHASE          1988\n",
       "S_LOAD               0\n",
       "C_LOAD               0\n",
       "METER_COND        1988\n",
       "OMF                  0\n",
       "CATAGORY             0\n",
       "BILL_MONTH           0\n",
       "C_SR_RED          3024\n",
       "C_OFPK_RED       16691\n",
       "C_PK_RED         16649\n",
       "TO_UNIT              0\n",
       "CUR_M_PRIN           0\n",
       "CUR_LPS              0\n",
       "CUR_VAT              0\n",
       "CUR_M_BILL           0\n",
       "PAY_DATE          8485\n",
       "PRIN_PAID            0\n",
       "VAT_PAID             0\n",
       "TOTAL_ADJ            0\n",
       "PRN_BALANCE          0\n",
       "VAT_BALANCE          0\n",
       "LPS_BALANCE          0\n",
       "TOTAL_BALANCE        0\n",
       "TOTAL_BILL           0\n",
       "dtype: int64"
      ]
     },
     "execution_count": 6,
     "metadata": {},
     "output_type": "execute_result"
    }
   ],
   "source": [
    "df.isna().sum()"
   ]
  },
  {
   "cell_type": "code",
   "execution_count": 8,
   "id": "40fbcc5a",
   "metadata": {},
   "outputs": [
    {
     "data": {
      "image/png": "[encoded data removed]",
      "text/plain": [
       "<Figure size 1500x600 with 1 Axes>"
      ]
     },
     "metadata": {},
     "output_type": "display_data"
    }
   ],
   "source": [
    "# Plot boxplots for all numerical columns in the df DataFrame to visualize outliers\n",
    "import matplotlib.pyplot as plt\n",
    "import numpy as np\n",
    "numeric_cols = df.select_dtypes(include=[np.number]).columns\n",
    "df[numeric_cols].plot.box(figsize=(15, 6))\n",
    "plt.title(\"Boxplot of Numerical Columns in df\")\n",
    "plt.show()"
   ]
  },
  {
   "cell_type": "code",
   "execution_count": 12,
   "id": "3de3b951",
   "metadata": {},
   "outputs": [
    {
     "name": "stderr",
     "output_type": "stream",
     "text": [
      "<>:7: SyntaxWarning: invalid escape sequence '\\G'\n",
      "<>:7: SyntaxWarning: invalid escape sequence '\\G'\n",
      "C:\\Users\\USER\\AppData\\Local\\Temp\\ipykernel_8288\\928592437.py:7: SyntaxWarning: invalid escape sequence '\\G'\n",
      "  df = pd.read_csv('D:\\GitHub\\M6.csv')\n",
      "C:\\Users\\USER\\AppData\\Local\\Temp\\ipykernel_8288\\928592437.py:7: DtypeWarning: Columns (2,4,18,19,27) have mixed types. Specify dtype option on import or set low_memory=False.\n",
      "  df = pd.read_csv('D:\\GitHub\\M6.csv')\n"
     ]
    },
    {
     "name": "stdout",
     "output_type": "stream",
     "text": [
      "R² Score: 0.3376490509472416\n",
      "Mean Absolute Error: 11040.160273145255\n"
     ]
    }
   ],
   "source": [
    "import pandas as pd\n",
    "from sklearn.model_selection import train_test_split\n",
    "from sklearn.linear_model import LinearRegression\n",
    "from sklearn.metrics import r2_score, mean_absolute_error\n",
    "\n",
    "# Load your cleaned data\n",
    "df = pd.read_csv('D:\\GitHub\\M6.csv')\n",
    "\n",
    "# Convert necessary columns to float\n",
    "for col in ['S_LOAD', 'C_LOAD', 'TO_UNIT', 'TOTAL_BILL']:\n",
    "    df[col] = df[col].astype(str).str.replace(',', '').astype(float)\n",
    "\n",
    "# Drop rows with missing values\n",
    "df = df[['S_LOAD', 'C_LOAD', 'TO_UNIT', 'TOTAL_BILL']].dropna()\n",
    "\n",
    "# Features and target\n",
    "X = df[['S_LOAD', 'C_LOAD', 'TO_UNIT']]\n",
    "y = df['TOTAL_BILL']\n",
    "\n",
    "# Train-test split\n",
    "X_train, X_test, y_train, y_test = train_test_split(X, y, test_size=0.2, random_state=42)\n",
    "\n",
    "# Train model\n",
    "model = LinearRegression()\n",
    "model.fit(X_train, y_train)\n",
    "\n",
    "# Predictions\n",
    "y_pred = model.predict(X_test)\n",
    "\n",
    "# Evaluation\n",
    "r2 = r2_score(y_test, y_pred)\n",
    "mae = mean_absolute_error(y_test, y_pred)\n",
    "\n",
    "print(\"R² Score:\", r2)\n",
    "print(\"Mean Absolute Error:\", mae)\n"
   ]
  },
  {
   "cell_type": "code",
   "execution_count": 13,
   "id": "06998d69",
   "metadata": {},
   "outputs": [
    {
     "data": {
      "text/plain": [
       "['insurance_model.pkl']"
      ]
     },
     "execution_count": 13,
     "metadata": {},
     "output_type": "execute_result"
    }
   ],
   "source": [
    "# Add this after your model training\n",
    "import joblib\n",
    "\n",
    "# Save the model\n",
    "joblib.dump(model, 'insurance_model.pkl')"
   ]
  },
  {
   "cell_type": "code",
   "execution_count": 2,
   "id": "84de7ead",
   "metadata": {},
   "outputs": [
    {
     "data": {
      "text/html": [
       "<div>\n",
       "<style scoped>\n",
       "    .dataframe tbody tr th:only-of-type {\n",
       "        vertical-align: middle;\n",
       "    }\n",
       "\n",
       "    .dataframe tbody tr th {\n",
       "        vertical-align: top;\n",
       "    }\n",
       "\n",
       "    .dataframe thead th {\n",
       "        text-align: right;\n",
       "    }\n",
       "</style>\n",
       "<table border=\"1\" class=\"dataframe\">\n",
       "  <thead>\n",
       "    <tr style=\"text-align: right;\">\n",
       "      <th></th>\n",
       "      <th>total_bill</th>\n",
       "      <th>tip</th>\n",
       "      <th>sex</th>\n",
       "      <th>smoker</th>\n",
       "      <th>day</th>\n",
       "      <th>time</th>\n",
       "      <th>size</th>\n",
       "    </tr>\n",
       "  </thead>\n",
       "  <tbody>\n",
       "    <tr>\n",
       "      <th>0</th>\n",
       "      <td>16.99</td>\n",
       "      <td>1.01</td>\n",
       "      <td>Female</td>\n",
       "      <td>No</td>\n",
       "      <td>Sun</td>\n",
       "      <td>Dinner</td>\n",
       "      <td>2</td>\n",
       "    </tr>\n",
       "    <tr>\n",
       "      <th>1</th>\n",
       "      <td>10.34</td>\n",
       "      <td>1.66</td>\n",
       "      <td>Male</td>\n",
       "      <td>No</td>\n",
       "      <td>Sun</td>\n",
       "      <td>Dinner</td>\n",
       "      <td>3</td>\n",
       "    </tr>\n",
       "    <tr>\n",
       "      <th>2</th>\n",
       "      <td>21.01</td>\n",
       "      <td>3.50</td>\n",
       "      <td>Male</td>\n",
       "      <td>No</td>\n",
       "      <td>Sun</td>\n",
       "      <td>Dinner</td>\n",
       "      <td>3</td>\n",
       "    </tr>\n",
       "    <tr>\n",
       "      <th>3</th>\n",
       "      <td>23.68</td>\n",
       "      <td>3.31</td>\n",
       "      <td>Male</td>\n",
       "      <td>No</td>\n",
       "      <td>Sun</td>\n",
       "      <td>Dinner</td>\n",
       "      <td>2</td>\n",
       "    </tr>\n",
       "    <tr>\n",
       "      <th>4</th>\n",
       "      <td>24.59</td>\n",
       "      <td>3.61</td>\n",
       "      <td>Female</td>\n",
       "      <td>No</td>\n",
       "      <td>Sun</td>\n",
       "      <td>Dinner</td>\n",
       "      <td>4</td>\n",
       "    </tr>\n",
       "  </tbody>\n",
       "</table>\n",
       "</div>"
      ],
      "text/plain": [
       "   total_bill   tip     sex smoker  day    time  size\n",
       "0       16.99  1.01  Female     No  Sun  Dinner     2\n",
       "1       10.34  1.66    Male     No  Sun  Dinner     3\n",
       "2       21.01  3.50    Male     No  Sun  Dinner     3\n",
       "3       23.68  3.31    Male     No  Sun  Dinner     2\n",
       "4       24.59  3.61  Female     No  Sun  Dinner     4"
      ]
     },
     "execution_count": 2,
     "metadata": {},
     "output_type": "execute_result"
    }
   ],
   "source": [
    "tips = sns.load_dataset(\"tips\")  # Loaded in a Pandas DataFrame\n",
    "tips.head()"
   ]
  },
  {
   "cell_type": "code",
   "execution_count": 3,
   "id": "39b023b6",
   "metadata": {},
   "outputs": [
    {
     "data": {
      "image/png": "[encoded data removed]",
      "text/plain": [
       "<Figure size 640x480 with 1 Axes>"
      ]
     },
     "metadata": {},
     "output_type": "display_data"
    }
   ],
   "source": [
    "plot = sns.countplot(x=\"sex\", data=tips, hue=\"day\")\n",
    "\n",
    "# In seaborn, the hue parameter determines which column in the data frame should be used for colour encoding."
   ]
  },
  {
   "cell_type": "code",
   "execution_count": 4,
   "id": "34647d9b",
   "metadata": {},
   "outputs": [
    {
     "data": {
      "image/png": "[encoded data removed]",
      "text/plain": [
       "<Figure size 640x480 with 1 Axes>"
      ]
     },
     "metadata": {},
     "output_type": "display_data"
    }
   ],
   "source": [
    "plot = sns.countplot(x=\"sex\", data=tips, hue=\"day\")\n",
    "\n",
    "# In seaborn, the hue parameter determines which column in the data frame should be used for colour encoding."
   ]
  },
  {
   "cell_type": "code",
   "execution_count": 5,
   "id": "6f692deb",
   "metadata": {},
   "outputs": [
    {
     "data": {
      "text/html": [
       "<div>\n",
       "<style scoped>\n",
       "    .dataframe tbody tr th:only-of-type {\n",
       "        vertical-align: middle;\n",
       "    }\n",
       "\n",
       "    .dataframe tbody tr th {\n",
       "        vertical-align: top;\n",
       "    }\n",
       "\n",
       "    .dataframe thead th {\n",
       "        text-align: right;\n",
       "    }\n",
       "</style>\n",
       "<table border=\"1\" class=\"dataframe\">\n",
       "  <thead>\n",
       "    <tr style=\"text-align: right;\">\n",
       "      <th></th>\n",
       "      <th>total_bill</th>\n",
       "      <th>tip</th>\n",
       "      <th>size</th>\n",
       "    </tr>\n",
       "  </thead>\n",
       "  <tbody>\n",
       "    <tr>\n",
       "      <th>count</th>\n",
       "      <td>244.000000</td>\n",
       "      <td>244.000000</td>\n",
       "      <td>244.000000</td>\n",
       "    </tr>\n",
       "    <tr>\n",
       "      <th>mean</th>\n",
       "      <td>19.785943</td>\n",
       "      <td>2.998279</td>\n",
       "      <td>2.569672</td>\n",
       "    </tr>\n",
       "    <tr>\n",
       "      <th>std</th>\n",
       "      <td>8.902412</td>\n",
       "      <td>1.383638</td>\n",
       "      <td>0.951100</td>\n",
       "    </tr>\n",
       "    <tr>\n",
       "      <th>min</th>\n",
       "      <td>3.070000</td>\n",
       "      <td>1.000000</td>\n",
       "      <td>1.000000</td>\n",
       "    </tr>\n",
       "    <tr>\n",
       "      <th>25%</th>\n",
       "      <td>13.347500</td>\n",
       "      <td>2.000000</td>\n",
       "      <td>2.000000</td>\n",
       "    </tr>\n",
       "    <tr>\n",
       "      <th>50%</th>\n",
       "      <td>17.795000</td>\n",
       "      <td>2.900000</td>\n",
       "      <td>2.000000</td>\n",
       "    </tr>\n",
       "    <tr>\n",
       "      <th>75%</th>\n",
       "      <td>24.127500</td>\n",
       "      <td>3.562500</td>\n",
       "      <td>3.000000</td>\n",
       "    </tr>\n",
       "    <tr>\n",
       "      <th>max</th>\n",
       "      <td>50.810000</td>\n",
       "      <td>10.000000</td>\n",
       "      <td>6.000000</td>\n",
       "    </tr>\n",
       "  </tbody>\n",
       "</table>\n",
       "</div>"
      ],
      "text/plain": [
       "       total_bill         tip        size\n",
       "count  244.000000  244.000000  244.000000\n",
       "mean    19.785943    2.998279    2.569672\n",
       "std      8.902412    1.383638    0.951100\n",
       "min      3.070000    1.000000    1.000000\n",
       "25%     13.347500    2.000000    2.000000\n",
       "50%     17.795000    2.900000    2.000000\n",
       "75%     24.127500    3.562500    3.000000\n",
       "max     50.810000   10.000000    6.000000"
      ]
     },
     "execution_count": 5,
     "metadata": {},
     "output_type": "execute_result"
    }
   ],
   "source": [
    "tips.describe()"
   ]
  },
  {
   "cell_type": "markdown",
   "id": "f53210ca",
   "metadata": {},
   "source": [
    "Missing value:\n"
   ]
  },
  {
   "cell_type": "code",
   "execution_count": 6,
   "id": "a4a5c136",
   "metadata": {},
   "outputs": [
    {
     "data": {
      "text/plain": [
       "total_bill    0\n",
       "tip           0\n",
       "sex           0\n",
       "smoker        0\n",
       "day           0\n",
       "time          0\n",
       "size          0\n",
       "dtype: int64"
      ]
     },
     "execution_count": 6,
     "metadata": {},
     "output_type": "execute_result"
    }
   ],
   "source": [
    "tips.isna().sum()"
   ]
  },
  {
   "cell_type": "markdown",
   "id": "b482ea3c",
   "metadata": {},
   "source": [
    "Outlier treatment:"
   ]
  },
  {
   "cell_type": "code",
   "execution_count": 7,
   "id": "5ce0898d",
   "metadata": {},
   "outputs": [
    {
     "data": {
      "image/png": "[encoded data removed]",
      "text/plain": [
       "<Figure size 640x480 with 1 Axes>"
      ]
     },
     "metadata": {},
     "output_type": "display_data"
    }
   ],
   "source": [
    "tips.plot.box();"
   ]
  },
  {
   "cell_type": "markdown",
   "id": "764f5359",
   "metadata": {},
   "source": [
    "minimize the outlier using IQR Method"
   ]
  },
  {
   "cell_type": "code",
   "execution_count": 8,
   "id": "114dac83",
   "metadata": {},
   "outputs": [],
   "source": [
    "def detect_outlier(feature):\n",
    "    Q1 = feature.quantile(0.25)\n",
    "    Q3 = feature.quantile(0.75)\n",
    "    \n",
    "    IQR = Q3-Q1\n",
    "    \n",
    "    lower_bound = Q1-(1.5*IQR)\n",
    "    upper_bound = Q3+(1.5*IQR)\n",
    "    \n",
    "    return feature.index[(feature<lower_bound)|(feature>upper_bound)].tolist()"
   ]
  },
  {
   "cell_type": "code",
   "execution_count": 9,
   "id": "0609eb6e",
   "metadata": {},
   "outputs": [
    {
     "data": {
      "text/plain": [
       "{'total_bill': [59, 102, 142, 156, 170, 182, 184, 197, 212],\n",
       " 'tip': [23, 47, 59, 141, 170, 183, 212, 214, 239],\n",
       " 'size': [125, 141, 142, 143, 155, 156, 185, 187, 216]}"
      ]
     },
     "execution_count": 9,
     "metadata": {},
     "output_type": "execute_result"
    }
   ],
   "source": [
    "# Detect outliers for all numerical columns in the tips dataset using the IQR method\n",
    "outlier_indices = {}\n",
    "for col in tips.select_dtypes(include=[np.number]).columns:\n",
    "    outlier_indices[col] = detect_outlier(tips[col])\n",
    "\n",
    "outlier_indices"
   ]
  },
  {
   "cell_type": "code",
   "execution_count": null,
   "id": "676f7dbd",
   "metadata": {},
   "outputs": [],
   "source": []
  }
 ],
 "metadata": {
  "kernelspec": {
   "display_name": ".venv",
   "language": "python",
   "name": "python3"
  },
  "language_info": {
   "codemirror_mode": {
    "name": "ipython",
    "version": 3
   },
   "file_extension": ".py",
   "mimetype": "text/x-python",
   "name": "python",
   "nbconvert_exporter": "python",
   "pygments_lexer": "ipython3",
   "version": "3.12.10"
  }
 },
 "nbformat": 4,
 "nbformat_minor": 5
}
